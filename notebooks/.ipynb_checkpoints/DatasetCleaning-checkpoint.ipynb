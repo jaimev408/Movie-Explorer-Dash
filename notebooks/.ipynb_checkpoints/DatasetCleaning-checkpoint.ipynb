{
 "cells": [
  {
   "cell_type": "markdown",
   "metadata": {},
   "source": [
    "### Import libraries"
   ]
  },
  {
   "cell_type": "code",
   "execution_count": 113,
   "metadata": {},
   "outputs": [],
   "source": [
    "import pandas as pd\n",
    "import numpy as np"
   ]
  },
  {
   "cell_type": "markdown",
   "metadata": {},
   "source": [
    "### Import and Check Dataset"
   ]
  },
  {
   "cell_type": "code",
   "execution_count": 73,
   "metadata": {},
   "outputs": [],
   "source": [
    "data = pd.read_csv(\"../app/resources/all_movies.csv\")"
   ]
  },
  {
   "cell_type": "markdown",
   "metadata": {},
   "source": [
    "### Summarize the data"
   ]
  },
  {
   "cell_type": "code",
   "execution_count": 74,
   "metadata": {},
   "outputs": [
    {
     "data": {
      "text/html": [
       "<div>\n",
       "<style scoped>\n",
       "    .dataframe tbody tr th:only-of-type {\n",
       "        vertical-align: middle;\n",
       "    }\n",
       "\n",
       "    .dataframe tbody tr th {\n",
       "        vertical-align: top;\n",
       "    }\n",
       "\n",
       "    .dataframe thead th {\n",
       "        text-align: right;\n",
       "    }\n",
       "</style>\n",
       "<table border=\"1\" class=\"dataframe\">\n",
       "  <thead>\n",
       "    <tr style=\"text-align: right;\">\n",
       "      <th></th>\n",
       "      <th>MovieID</th>\n",
       "      <th>imdbID</th>\n",
       "      <th>Title</th>\n",
       "      <th>Year</th>\n",
       "      <th>Rated</th>\n",
       "      <th>Runtime</th>\n",
       "      <th>Genre</th>\n",
       "      <th>Released</th>\n",
       "      <th>Director</th>\n",
       "      <th>Writer</th>\n",
       "      <th>...</th>\n",
       "      <th>Fresh</th>\n",
       "      <th>Rotten</th>\n",
       "      <th>Consensus</th>\n",
       "      <th>userMeter</th>\n",
       "      <th>userRating</th>\n",
       "      <th>userReviews</th>\n",
       "      <th>DVD</th>\n",
       "      <th>BoxOffice</th>\n",
       "      <th>Production</th>\n",
       "      <th>Website</th>\n",
       "    </tr>\n",
       "  </thead>\n",
       "  <tbody>\n",
       "    <tr>\n",
       "      <th>0</th>\n",
       "      <td>4972</td>\n",
       "      <td>tt0004972</td>\n",
       "      <td>The Birth of a Nation</td>\n",
       "      <td>1915</td>\n",
       "      <td>Not Rated</td>\n",
       "      <td>165</td>\n",
       "      <td>Drama, History, Romance</td>\n",
       "      <td>3/3/1915</td>\n",
       "      <td>D.W. Griffith</td>\n",
       "      <td>Thomas F. Dixon Jr. (adapted from his novel: \"...</td>\n",
       "      <td>...</td>\n",
       "      <td>38</td>\n",
       "      <td>0</td>\n",
       "      <td>Racial depictions aside, The Birth of a Nation...</td>\n",
       "      <td>58.0</td>\n",
       "      <td>3.3</td>\n",
       "      <td>4034.0</td>\n",
       "      <td>6/29/2004</td>\n",
       "      <td>NaN</td>\n",
       "      <td>Gravitas</td>\n",
       "      <td>NaN</td>\n",
       "    </tr>\n",
       "    <tr>\n",
       "      <th>1</th>\n",
       "      <td>6206</td>\n",
       "      <td>tt0006206</td>\n",
       "      <td>Les vampires</td>\n",
       "      <td>1915</td>\n",
       "      <td>Not Rated</td>\n",
       "      <td>399</td>\n",
       "      <td>Action, Adventure, Crime</td>\n",
       "      <td>11/13/1915</td>\n",
       "      <td>Louis Feuillade</td>\n",
       "      <td>Louis Feuillade</td>\n",
       "      <td>...</td>\n",
       "      <td>13</td>\n",
       "      <td>0</td>\n",
       "      <td>NaN</td>\n",
       "      <td>85.0</td>\n",
       "      <td>3.8</td>\n",
       "      <td>2075.0</td>\n",
       "      <td>5/16/2000</td>\n",
       "      <td>NaN</td>\n",
       "      <td>NaN</td>\n",
       "      <td>NaN</td>\n",
       "    </tr>\n",
       "  </tbody>\n",
       "</table>\n",
       "<p>2 rows × 32 columns</p>\n",
       "</div>"
      ],
      "text/plain": [
       "   MovieID     imdbID                  Title  Year      Rated  Runtime  \\\n",
       "0     4972  tt0004972  The Birth of a Nation  1915  Not Rated      165   \n",
       "1     6206  tt0006206           Les vampires  1915  Not Rated      399   \n",
       "\n",
       "                      Genre    Released         Director  \\\n",
       "0   Drama, History, Romance    3/3/1915    D.W. Griffith   \n",
       "1  Action, Adventure, Crime  11/13/1915  Louis Feuillade   \n",
       "\n",
       "                                              Writer  ... Fresh  Rotten  \\\n",
       "0  Thomas F. Dixon Jr. (adapted from his novel: \"...  ...    38       0   \n",
       "1                                    Louis Feuillade  ...    13       0   \n",
       "\n",
       "                                           Consensus  userMeter userRating  \\\n",
       "0  Racial depictions aside, The Birth of a Nation...       58.0        3.3   \n",
       "1                                                NaN       85.0        3.8   \n",
       "\n",
       "  userReviews        DVD  BoxOffice Production  Website  \n",
       "0      4034.0  6/29/2004        NaN   Gravitas      NaN  \n",
       "1      2075.0  5/16/2000        NaN        NaN      NaN  \n",
       "\n",
       "[2 rows x 32 columns]"
      ]
     },
     "execution_count": 74,
     "metadata": {},
     "output_type": "execute_result"
    }
   ],
   "source": [
    "data.head(2)"
   ]
  },
  {
   "cell_type": "code",
   "execution_count": 75,
   "metadata": {},
   "outputs": [
    {
     "name": "stdout",
     "output_type": "stream",
     "text": [
      "<class 'pandas.core.frame.DataFrame'>\n",
      "RangeIndex: 12569 entries, 0 to 12568\n",
      "Data columns (total 32 columns):\n",
      " #   Column       Non-Null Count  Dtype  \n",
      "---  ------       --------------  -----  \n",
      " 0   MovieID      12569 non-null  int64  \n",
      " 1   imdbID       12569 non-null  object \n",
      " 2   Title        12569 non-null  object \n",
      " 3   Year         12569 non-null  int64  \n",
      " 4   Rated        10353 non-null  object \n",
      " 5   Runtime      12569 non-null  int64  \n",
      " 6   Genre        12548 non-null  object \n",
      " 7   Released     12381 non-null  object \n",
      " 8   Director     12549 non-null  object \n",
      " 9   Writer       11852 non-null  object \n",
      " 10  Cast         12412 non-null  object \n",
      " 11  Metacritic   7649 non-null   float64\n",
      " 12  imdbRating   12549 non-null  float64\n",
      " 13  imdbVotes    12548 non-null  float64\n",
      " 14  Language     12340 non-null  object \n",
      " 15  Country      12392 non-null  object \n",
      " 16  Awards       9581 non-null   object \n",
      " 17  Oscars       12569 non-null  int64  \n",
      " 18  Image        12569 non-null  object \n",
      " 19  Rating10     12569 non-null  float64\n",
      " 20  Meter        12569 non-null  int64  \n",
      " 21  Reviews      12569 non-null  int64  \n",
      " 22  Fresh        12569 non-null  int64  \n",
      " 23  Rotten       12569 non-null  int64  \n",
      " 24  Consensus    5537 non-null   object \n",
      " 25  userMeter    12478 non-null  float64\n",
      " 26  userRating   12358 non-null  float64\n",
      " 27  userReviews  12557 non-null  float64\n",
      " 28  DVD          11577 non-null  object \n",
      " 29  BoxOffice    4189 non-null   float64\n",
      " 30  Production   11451 non-null  object \n",
      " 31  Website      6747 non-null   object \n",
      "dtypes: float64(8), int64(8), object(16)\n",
      "memory usage: 3.1+ MB\n"
     ]
    }
   ],
   "source": [
    "data.info()"
   ]
  },
  {
   "cell_type": "markdown",
   "metadata": {},
   "source": [
    "### check the rating categories"
   ]
  },
  {
   "cell_type": "code",
   "execution_count": 76,
   "metadata": {},
   "outputs": [
    {
     "data": {
      "text/plain": [
       "R            4576\n",
       "PG-13        2140\n",
       "PG           1417\n",
       "Not Rated     877\n",
       "Unrated       502\n",
       "Approved      347\n",
       "G             276\n",
       "TV-PG          58\n",
       "NC-17          39\n",
       "TV-G           32\n",
       "X              32\n",
       "TV-14          18\n",
       "TV-MA          11\n",
       "Atp             5\n",
       "13              4\n",
       "15              2\n",
       "14              2\n",
       "AL              2\n",
       "M               2\n",
       "6               2\n",
       "U               2\n",
       "15A             1\n",
       "All             1\n",
       "12              1\n",
       "18              1\n",
       "PG13            1\n",
       "MA15+           1\n",
       "12A             1\n",
       "Name: Rated, dtype: int64"
      ]
     },
     "execution_count": 76,
     "metadata": {},
     "output_type": "execute_result"
    }
   ],
   "source": [
    "data.Rated.value_counts()"
   ]
  },
  {
   "cell_type": "code",
   "execution_count": 80,
   "metadata": {},
   "outputs": [],
   "source": [
    "data.loc[(data.Rated == \"Unrated\") | (data.Rated == \"13\") | (data.Rated == \"6\") | (data.Rated == \"15\") | (data.Rated == \"14\") |\n",
    "         (data.Rated == \"18\") | (data.Rated == \"12\") | (data.Rated == \"15\") | (data.Rated == \"15\") ] = \"Not Rated\"\n",
    "data.loc[data.Rated == \"X\"] = \"NC-17\"\n",
    "data.loc[(data.Rated == \"Atp\") | (data.Rated == \"All\") | (data.Rated == \"U\")] = \"G\"\n",
    "data.loc[data.Rated == \"M\"] = \"TV-MA\"\n",
    "data.loc[(data.Rated == \"PG13\")] = \"PG-13\""
   ]
  },
  {
   "cell_type": "markdown",
   "metadata": {},
   "source": [
    "Now the data is cleaned"
   ]
  },
  {
   "cell_type": "code",
   "execution_count": 81,
   "metadata": {},
   "outputs": [
    {
     "data": {
      "text/plain": [
       "R            4576\n",
       "PG-13        2141\n",
       "PG           1417\n",
       "Not Rated    1391\n",
       "Approved      347\n",
       "G             284\n",
       "NC-17          71\n",
       "TV-PG          58\n",
       "TV-G           32\n",
       "TV-14          18\n",
       "TV-MA          13\n",
       "AL              2\n",
       "MA15+           1\n",
       "12A             1\n",
       "15A             1\n",
       "Name: Rated, dtype: int64"
      ]
     },
     "execution_count": 81,
     "metadata": {},
     "output_type": "execute_result"
    }
   ],
   "source": [
    "data.Rated.value_counts()"
   ]
  },
  {
   "cell_type": "code",
   "execution_count": 82,
   "metadata": {},
   "outputs": [
    {
     "data": {
      "text/html": [
       "<div>\n",
       "<style scoped>\n",
       "    .dataframe tbody tr th:only-of-type {\n",
       "        vertical-align: middle;\n",
       "    }\n",
       "\n",
       "    .dataframe tbody tr th {\n",
       "        vertical-align: top;\n",
       "    }\n",
       "\n",
       "    .dataframe thead th {\n",
       "        text-align: right;\n",
       "    }\n",
       "</style>\n",
       "<table border=\"1\" class=\"dataframe\">\n",
       "  <thead>\n",
       "    <tr style=\"text-align: right;\">\n",
       "      <th></th>\n",
       "      <th>MovieID</th>\n",
       "      <th>imdbID</th>\n",
       "      <th>Title</th>\n",
       "      <th>Year</th>\n",
       "      <th>Rated</th>\n",
       "      <th>Runtime</th>\n",
       "      <th>Genre</th>\n",
       "      <th>Released</th>\n",
       "      <th>Director</th>\n",
       "      <th>Writer</th>\n",
       "      <th>...</th>\n",
       "      <th>Fresh</th>\n",
       "      <th>Rotten</th>\n",
       "      <th>Consensus</th>\n",
       "      <th>userMeter</th>\n",
       "      <th>userRating</th>\n",
       "      <th>userReviews</th>\n",
       "      <th>DVD</th>\n",
       "      <th>BoxOffice</th>\n",
       "      <th>Production</th>\n",
       "      <th>Website</th>\n",
       "    </tr>\n",
       "  </thead>\n",
       "  <tbody>\n",
       "    <tr>\n",
       "      <th>7942</th>\n",
       "      <td>436978</td>\n",
       "      <td>tt0436978</td>\n",
       "      <td>Yang Ban Xi: The 8 Modelworks</td>\n",
       "      <td>2005</td>\n",
       "      <td>AL</td>\n",
       "      <td>90</td>\n",
       "      <td>Documentary</td>\n",
       "      <td>9/29/2005</td>\n",
       "      <td>Yan Ting Yuen</td>\n",
       "      <td>Yan Ting Yuen</td>\n",
       "      <td>...</td>\n",
       "      <td>13</td>\n",
       "      <td>7</td>\n",
       "      <td>NaN</td>\n",
       "      <td>86</td>\n",
       "      <td>3.8</td>\n",
       "      <td>237</td>\n",
       "      <td>4/10/2007</td>\n",
       "      <td>NaN</td>\n",
       "      <td>Shadow Distribution</td>\n",
       "      <td>NaN</td>\n",
       "    </tr>\n",
       "    <tr>\n",
       "      <th>11642</th>\n",
       "      <td>1787810</td>\n",
       "      <td>tt1787810</td>\n",
       "      <td>The Flaw</td>\n",
       "      <td>2011</td>\n",
       "      <td>AL</td>\n",
       "      <td>78</td>\n",
       "      <td>Documentary</td>\n",
       "      <td>6/3/2011</td>\n",
       "      <td>David Sington</td>\n",
       "      <td>NaN</td>\n",
       "      <td>...</td>\n",
       "      <td>8</td>\n",
       "      <td>2</td>\n",
       "      <td>NaN</td>\n",
       "      <td>68</td>\n",
       "      <td>3.7</td>\n",
       "      <td>172</td>\n",
       "      <td>6/13/2012</td>\n",
       "      <td>NaN</td>\n",
       "      <td>New Video Group</td>\n",
       "      <td>http://www.theflawmovie.com/</td>\n",
       "    </tr>\n",
       "  </tbody>\n",
       "</table>\n",
       "<p>2 rows × 32 columns</p>\n",
       "</div>"
      ],
      "text/plain": [
       "       MovieID     imdbID                          Title  Year Rated Runtime  \\\n",
       "7942    436978  tt0436978  Yang Ban Xi: The 8 Modelworks  2005    AL      90   \n",
       "11642  1787810  tt1787810                       The Flaw  2011    AL      78   \n",
       "\n",
       "             Genre   Released       Director         Writer  ... Fresh Rotten  \\\n",
       "7942   Documentary  9/29/2005  Yan Ting Yuen  Yan Ting Yuen  ...    13      7   \n",
       "11642  Documentary   6/3/2011  David Sington            NaN  ...     8      2   \n",
       "\n",
       "      Consensus userMeter userRating userReviews        DVD BoxOffice  \\\n",
       "7942        NaN        86        3.8         237  4/10/2007       NaN   \n",
       "11642       NaN        68        3.7         172  6/13/2012       NaN   \n",
       "\n",
       "                Production                       Website  \n",
       "7942   Shadow Distribution                           NaN  \n",
       "11642      New Video Group  http://www.theflawmovie.com/  \n",
       "\n",
       "[2 rows x 32 columns]"
      ]
     },
     "execution_count": 82,
     "metadata": {},
     "output_type": "execute_result"
    }
   ],
   "source": [
    "data.loc[data.Rated == \"AL\"] "
   ]
  },
  {
   "cell_type": "markdown",
   "metadata": {},
   "source": [
    "### Check Genre Categories"
   ]
  },
  {
   "cell_type": "code",
   "execution_count": 83,
   "metadata": {},
   "outputs": [
    {
     "data": {
      "text/plain": [
       "Drama                          1309\n",
       "Documentary                     650\n",
       "Comedy, Drama                   563\n",
       "Comedy                          531\n",
       "Not Rated                       514\n",
       "                               ... \n",
       "Family, Animation, Musical        1\n",
       "Adventure, War                    1\n",
       "Family, Animation, Fantasy        1\n",
       "Animation, Fantasy, Romance       1\n",
       "Crime, Sci-Fi                     1\n",
       "Name: Genre, Length: 748, dtype: int64"
      ]
     },
     "execution_count": 83,
     "metadata": {},
     "output_type": "execute_result"
    }
   ],
   "source": [
    "data.Genre.value_counts()"
   ]
  },
  {
   "cell_type": "markdown",
   "metadata": {},
   "source": [
    "Get unique categories"
   ]
  },
  {
   "cell_type": "code",
   "execution_count": 135,
   "metadata": {},
   "outputs": [
    {
     "data": {
      "text/plain": [
       "array(['Action', 'Adult', 'Adventure', 'Animation', 'Biography', 'Comedy',\n",
       "       'Crime', 'Documentary', 'Drama', 'Family', 'Fantasy', 'Film-Noir',\n",
       "       'G', 'History', 'Horror', 'Music', 'Musical', 'Mystery', 'NC-17',\n",
       "       'News', 'Not Rated', 'PG-13', 'Romance', 'Sci-Fi', 'Short',\n",
       "       'Sport', 'TV-MA', 'Thriller', 'War', 'Western'], dtype='<U11')"
      ]
     },
     "execution_count": 135,
     "metadata": {},
     "output_type": "execute_result"
    }
   ],
   "source": [
    "np.unique(np.concatenate(data.Genre.value_counts().index.str.split(\", \")))"
   ]
  },
  {
   "cell_type": "code",
   "execution_count": null,
   "metadata": {},
   "outputs": [],
   "source": []
  }
 ],
 "metadata": {
  "kernelspec": {
   "display_name": "Python 3",
   "language": "python",
   "name": "python3"
  },
  "language_info": {
   "codemirror_mode": {
    "name": "ipython",
    "version": 3
   },
   "file_extension": ".py",
   "mimetype": "text/x-python",
   "name": "python",
   "nbconvert_exporter": "python",
   "pygments_lexer": "ipython3",
   "version": "3.7.9"
  }
 },
 "nbformat": 4,
 "nbformat_minor": 4
}
